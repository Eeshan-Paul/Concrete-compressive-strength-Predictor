{
  "cells": [
    {
      "cell_type": "code",
      "execution_count": 29,
      "metadata": {
        "id": "qlZKGWMwJup_"
      },
      "outputs": [],
      "source": [
        "import numpy as np \n",
        "import pandas as pd\n",
        "import matplotlib.pyplot as plt\n",
        "import  seaborn as sns\n",
        "%matplotlib inline"
      ]
    },
    {
      "cell_type": "code",
      "execution_count": 30,
      "metadata": {
        "colab": {
          "base_uri": "https://localhost:8080/",
          "height": 204
        },
        "id": "t8D7g1ijKM_n",
        "outputId": "c4df637e-4e58-4d64-bee1-33daec4fe707"
      },
      "outputs": [
        {
          "data": {
            "text/html": [
              "<div>\n",
              "<style scoped>\n",
              "    .dataframe tbody tr th:only-of-type {\n",
              "        vertical-align: middle;\n",
              "    }\n",
              "\n",
              "    .dataframe tbody tr th {\n",
              "        vertical-align: top;\n",
              "    }\n",
              "\n",
              "    .dataframe thead th {\n",
              "        text-align: right;\n",
              "    }\n",
              "</style>\n",
              "<table border=\"1\" class=\"dataframe\">\n",
              "  <thead>\n",
              "    <tr style=\"text-align: right;\">\n",
              "      <th></th>\n",
              "      <th>cement</th>\n",
              "      <th>slag</th>\n",
              "      <th>flyash</th>\n",
              "      <th>water</th>\n",
              "      <th>superplasticizer</th>\n",
              "      <th>coarseaggregate</th>\n",
              "      <th>fineaggregate</th>\n",
              "      <th>age</th>\n",
              "      <th>csMPa</th>\n",
              "    </tr>\n",
              "  </thead>\n",
              "  <tbody>\n",
              "    <tr>\n",
              "      <th>0</th>\n",
              "      <td>540.0</td>\n",
              "      <td>0.0</td>\n",
              "      <td>0.0</td>\n",
              "      <td>162.0</td>\n",
              "      <td>2.5</td>\n",
              "      <td>1040.0</td>\n",
              "      <td>676.0</td>\n",
              "      <td>28</td>\n",
              "      <td>79.99</td>\n",
              "    </tr>\n",
              "    <tr>\n",
              "      <th>1</th>\n",
              "      <td>540.0</td>\n",
              "      <td>0.0</td>\n",
              "      <td>0.0</td>\n",
              "      <td>162.0</td>\n",
              "      <td>2.5</td>\n",
              "      <td>1055.0</td>\n",
              "      <td>676.0</td>\n",
              "      <td>28</td>\n",
              "      <td>61.89</td>\n",
              "    </tr>\n",
              "    <tr>\n",
              "      <th>2</th>\n",
              "      <td>332.5</td>\n",
              "      <td>142.5</td>\n",
              "      <td>0.0</td>\n",
              "      <td>228.0</td>\n",
              "      <td>0.0</td>\n",
              "      <td>932.0</td>\n",
              "      <td>594.0</td>\n",
              "      <td>270</td>\n",
              "      <td>40.27</td>\n",
              "    </tr>\n",
              "    <tr>\n",
              "      <th>3</th>\n",
              "      <td>332.5</td>\n",
              "      <td>142.5</td>\n",
              "      <td>0.0</td>\n",
              "      <td>228.0</td>\n",
              "      <td>0.0</td>\n",
              "      <td>932.0</td>\n",
              "      <td>594.0</td>\n",
              "      <td>365</td>\n",
              "      <td>41.05</td>\n",
              "    </tr>\n",
              "    <tr>\n",
              "      <th>4</th>\n",
              "      <td>198.6</td>\n",
              "      <td>132.4</td>\n",
              "      <td>0.0</td>\n",
              "      <td>192.0</td>\n",
              "      <td>0.0</td>\n",
              "      <td>978.4</td>\n",
              "      <td>825.5</td>\n",
              "      <td>360</td>\n",
              "      <td>44.30</td>\n",
              "    </tr>\n",
              "  </tbody>\n",
              "</table>\n",
              "</div>"
            ],
            "text/plain": [
              "   cement   slag  flyash  water  superplasticizer  coarseaggregate  \\\n",
              "0   540.0    0.0     0.0  162.0               2.5           1040.0   \n",
              "1   540.0    0.0     0.0  162.0               2.5           1055.0   \n",
              "2   332.5  142.5     0.0  228.0               0.0            932.0   \n",
              "3   332.5  142.5     0.0  228.0               0.0            932.0   \n",
              "4   198.6  132.4     0.0  192.0               0.0            978.4   \n",
              "\n",
              "   fineaggregate  age  csMPa  \n",
              "0          676.0   28  79.99  \n",
              "1          676.0   28  61.89  \n",
              "2          594.0  270  40.27  \n",
              "3          594.0  365  41.05  \n",
              "4          825.5  360  44.30  "
            ]
          },
          "execution_count": 30,
          "metadata": {},
          "output_type": "execute_result"
        }
      ],
      "source": [
        "data=pd.read_csv(\"Concrete_Dataset.csv\")\n",
        "data.head()"
      ]
    },
    {
      "cell_type": "code",
      "execution_count": 31,
      "metadata": {
        "id": "yah__N8NK-mk"
      },
      "outputs": [],
      "source": [
        "data.columns=['Cement',\n",
        "       'Blast_Furnace_Slag',\n",
        "       'Fly_Ash',\n",
        "       'Water',\n",
        "       'Superplasticizer',\n",
        "       'Coarse_Aggregate',\n",
        "       'Fine_Aggregate', 'Age',\n",
        "       'Concrete_compressive_strength']"
      ]
    },
    {
      "cell_type": "code",
      "execution_count": 32,
      "metadata": {
        "colab": {
          "base_uri": "https://localhost:8080/"
        },
        "id": "OeqHCxEsLE6f",
        "outputId": "5b4da276-c9ff-43b2-acd9-2d707e37992d"
      },
      "outputs": [
        {
          "name": "stdout",
          "output_type": "stream",
          "text": [
            "<class 'pandas.core.frame.DataFrame'>\n",
            "RangeIndex: 1030 entries, 0 to 1029\n",
            "Data columns (total 9 columns):\n",
            " #   Column                         Non-Null Count  Dtype  \n",
            "---  ------                         --------------  -----  \n",
            " 0   Cement                         1030 non-null   float64\n",
            " 1   Blast_Furnace_Slag             1030 non-null   float64\n",
            " 2   Fly_Ash                        1030 non-null   float64\n",
            " 3   Water                          1030 non-null   float64\n",
            " 4   Superplasticizer               1030 non-null   float64\n",
            " 5   Coarse_Aggregate               1030 non-null   float64\n",
            " 6   Fine_Aggregate                 1030 non-null   float64\n",
            " 7   Age                            1030 non-null   int64  \n",
            " 8   Concrete_compressive_strength  1030 non-null   float64\n",
            "dtypes: float64(8), int64(1)\n",
            "memory usage: 72.5 KB\n"
          ]
        }
      ],
      "source": [
        "data.info()"
      ]
    },
    {
      "cell_type": "code",
      "execution_count": 33,
      "metadata": {
        "colab": {
          "base_uri": "https://localhost:8080/"
        },
        "id": "if_SvwP0LH7B",
        "outputId": "fae0c71d-9a00-489a-d280-4469e0ee523a"
      },
      "outputs": [
        {
          "data": {
            "text/plain": [
              "Cement                           0\n",
              "Blast_Furnace_Slag               0\n",
              "Fly_Ash                          0\n",
              "Water                            0\n",
              "Superplasticizer                 0\n",
              "Coarse_Aggregate                 0\n",
              "Fine_Aggregate                   0\n",
              "Age                              0\n",
              "Concrete_compressive_strength    0\n",
              "dtype: int64"
            ]
          },
          "execution_count": 33,
          "metadata": {},
          "output_type": "execute_result"
        }
      ],
      "source": [
        "data.isnull().sum()"
      ]
    },
    {
      "cell_type": "code",
      "execution_count": 34,
      "metadata": {
        "id": "zB9sMFriLKlQ"
      },
      "outputs": [],
      "source": [
        "data['Water_Cement_ratio']=data['Water']/data['Cement']"
      ]
    },
    {
      "cell_type": "code",
      "execution_count": 35,
      "metadata": {
        "id": "Y2RQ3zwrLRp6"
      },
      "outputs": [],
      "source": [
        "data=data[['Superplasticizer',\n",
        "       'Coarse_Aggregate', 'Fine_Aggregate', 'Age', 'Water_Cement_ratio',\n",
        "       'Blast_Furnace_Slag', 'Fly_Ash',\n",
        "       'Concrete_compressive_strength']]"
      ]
    },
    {
      "cell_type": "code",
      "execution_count": 36,
      "metadata": {},
      "outputs": [
        {
          "data": {
            "image/png": "[encoded data removed]",
            "text/plain": [
              "<Figure size 1440x648 with 1 Axes>"
            ]
          },
          "metadata": {},
          "output_type": "display_data"
        }
      ],
      "source": [
        "import seaborn as sns\n",
        "sns.set(rc={'figure.figsize':(20,9)})\n",
        "ax=sns.boxplot(x=None,y=None,data=data)"
      ]
    },
    {
      "cell_type": "code",
      "execution_count": 37,
      "metadata": {
        "id": "W0Y6ZclRLmAe"
      },
      "outputs": [],
      "source": [
        "from scipy import stats \n",
        "outlier_list=[]\n",
        "for c in data.columns[:-1]:\n",
        "          q1=data[c].quantile(q=0.30)\n",
        "          q2=data[c].quantile(q=0.75)\n",
        "          L_outliers=q1-1.5*(q2-q1)\n",
        "          R_outliers=q2+1.5*(q2-q1)\n",
        "          outlier_list.extend(data[(data[c]<L_outliers) | (data[c]>R_outliers)].index) \n",
        "data.loc[list(set(outlier_list))]\n",
        "data_outliers=data.drop(outlier_list,axis=0).reset_index(drop=True)  "
      ]
    },
    {
      "cell_type": "code",
      "execution_count": 38,
      "metadata": {},
      "outputs": [
        {
          "data": {
            "image/png": "[encoded data removed]",
            "text/plain": [
              "<Figure size 1440x648 with 1 Axes>"
            ]
          },
          "metadata": {},
          "output_type": "display_data"
        }
      ],
      "source": [
        "import seaborn as sns\n",
        "sns.set(rc={'figure.figsize':(20,9)})\n",
        "ax=sns.boxplot(x=None,y=None,data=data_outliers)"
      ]
    },
    {
      "cell_type": "code",
      "execution_count": 39,
      "metadata": {
        "id": "F87i7g3yNmFR"
      },
      "outputs": [],
      "source": [
        "data=data_outliers\n",
        "data.head()\n",
        "X=data.drop('Concrete_compressive_strength',axis=1)\n",
        "y=data['Concrete_compressive_strength']"
      ]
    },
    {
      "cell_type": "code",
      "execution_count": 40,
      "metadata": {
        "id": "N4SMrXEmQNNH"
      },
      "outputs": [],
      "source": [
        "from sklearn.model_selection import train_test_split\n",
        "X_train,X_test,y_train,y_test=train_test_split(X,y,test_size=0.26,random_state=100)"
      ]
    },
    {
      "cell_type": "code",
      "execution_count": 41,
      "metadata": {
        "id": "eiFHdshlQdQS"
      },
      "outputs": [],
      "source": [
        "from sklearn.model_selection import GridSearchCV \n",
        "from xgboost import XGBRegressor\n",
        "model=XGBRegressor(random_state=2,learning_rate = 0.2,\n",
        "                max_depth = 2, n_estimators = 800,n_jobs=-1,reg_alpha=0.005,gamma=0.1,subsample=0.7,colsample_bytree=0.9, colsample_bylevel=0.9, colsample_bynode=0.9)\n",
        "param_grid=dict()\n",
        "Gridsearchmodel=GridSearchCV(model,param_grid=param_grid,cv=5,return_train_score=True)"
      ]
    },
    {
      "cell_type": "code",
      "execution_count": 42,
      "metadata": {
        "colab": {
          "base_uri": "https://localhost:8080/"
        },
        "id": "htF82z9-Rzn9",
        "outputId": "97a0ea96-17a2-4cd7-e5ef-d54dfaab6f31"
      },
      "outputs": [
        {
          "data": {
            "text/plain": [
              "GridSearchCV(cv=5,\n",
              "             estimator=XGBRegressor(base_score=None, booster=None,\n",
              "                                    colsample_bylevel=0.9, colsample_bynode=0.9,\n",
              "                                    colsample_bytree=0.9,\n",
              "                                    enable_categorical=False, gamma=0.1,\n",
              "                                    gpu_id=None, importance_type=None,\n",
              "                                    interaction_constraints=None,\n",
              "                                    learning_rate=0.2, max_delta_step=None,\n",
              "                                    max_depth=2, min_child_weight=None,\n",
              "                                    missing=nan, monotone_constraints=None,\n",
              "                                    n_estimators=800, n_jobs=-1,\n",
              "                                    num_parallel_tree=None, predictor=None,\n",
              "                                    random_state=2, reg_alpha=0.005,\n",
              "                                    reg_lambda=None, scale_pos_weight=None,\n",
              "                                    subsample=0.7, tree_method=None,\n",
              "                                    validate_parameters=None, verbosity=None),\n",
              "             param_grid={}, return_train_score=True)"
            ]
          },
          "execution_count": 42,
          "metadata": {},
          "output_type": "execute_result"
        }
      ],
      "source": [
        "Gridsearchmodel.fit(X_train,y_train)"
      ]
    },
    {
      "cell_type": "code",
      "execution_count": 43,
      "metadata": {
        "colab": {
          "base_uri": "https://localhost:8080/"
        },
        "id": "ZLpO_43nSEnB",
        "outputId": "4176d0c6-0ae4-469c-e353-562b770376e7"
      },
      "outputs": [
        {
          "name": "stdout",
          "output_type": "stream",
          "text": [
            "Train score:  0.9791011339052501\n",
            "Test score:  0.9443939071128801\n"
          ]
        }
      ],
      "source": [
        "best_model=Gridsearchmodel.best_estimator_\n",
        "best_model.fit(X_train,y_train)\n",
        "y_train_pred_xg=best_model.predict(X_train)\n",
        "y_test_pred_xg=best_model.predict(X_test)\n",
        "print ('Train score: ',best_model.score(X_train,y_train))\n",
        "print ('Test score: ',best_model.score(X_test,y_test))"
      ]
    },
    {
      "cell_type": "code",
      "execution_count": 44,
      "metadata": {
        "colab": {
          "base_uri": "https://localhost:8080/"
        },
        "id": "L2-oRl1PUqaX",
        "outputId": "bb0543d0-1354-48fd-a61d-e646bd59d592"
      },
      "outputs": [
        {
          "data": {
            "text/plain": [
              "RandomForestRegressor(max_depth=80, n_estimators=400, n_jobs=-1)"
            ]
          },
          "execution_count": 44,
          "metadata": {},
          "output_type": "execute_result"
        }
      ],
      "source": [
        "from sklearn.ensemble import  RandomForestRegressor\n",
        "rf = RandomForestRegressor(bootstrap=True, criterion='mse', max_depth=80,\n",
        "           max_features='auto', max_leaf_nodes=None,\n",
        "           min_impurity_decrease=0.0, min_impurity_split=None,\n",
        "           min_samples_leaf=1, min_samples_split=2,\n",
        "           min_weight_fraction_leaf=0.0, n_estimators=400, n_jobs=-1,\n",
        "           oob_score=False, random_state=None, verbose=0, warm_start=False)\n",
        "rf.fit(X_train,y_train)"
      ]
    },
    {
      "cell_type": "code",
      "execution_count": 45,
      "metadata": {
        "colab": {
          "base_uri": "https://localhost:8080/"
        },
        "id": "0nNCuqgZUz3z",
        "outputId": "04d984bd-ee4c-4335-b3a8-856882d4bb7e"
      },
      "outputs": [
        {
          "name": "stdout",
          "output_type": "stream",
          "text": [
            "0.9825595840968219 0.9180047234669764\n"
          ]
        }
      ],
      "source": [
        "y_pred=rf.predict(X_test)\n",
        "from sklearn.metrics import r2_score\n",
        "R2_score=r2_score(y_test,y_pred)\n",
        "y_train_pred=rf.predict(X_train)\n",
        "R2_score1=r2_score(y_train,y_train_pred)\n",
        "print(R2_score1,R2_score)"
      ]
    },
    {
      "cell_type": "code",
      "execution_count": 48,
      "metadata": {
        "id": "diDuo7j_dMj4"
      },
      "outputs": [],
      "source": [
        "from sklearn.ensemble import GradientBoostingRegressor\n",
        "model2=GradientBoostingRegressor(alpha=0.9, ccp_alpha=0.0, criterion='friedman_mse',\n",
        "                          init=None, learning_rate=0.3, loss='ls', max_depth=4,\n",
        "                          max_features=None, max_leaf_nodes=None,\n",
        "                          min_impurity_decrease=0.0, min_impurity_split=None,\n",
        "                          min_samples_leaf=1, min_samples_split=2,\n",
        "                          min_weight_fraction_leaf=0.0, n_estimators=100,\n",
        "                          n_iter_no_change=None,\n",
        "                          random_state=42, subsample=1.0, tol=0.0001,\n",
        "                          validation_fraction=0.1, verbose=0, warm_start=False)\n",
        "param_grid=dict()\n",
        "Gridsearchmodel=GridSearchCV(model,param_grid=param_grid,cv=5,return_train_score=True)"
      ]
    },
    {
      "cell_type": "code",
      "execution_count": 49,
      "metadata": {
        "colab": {
          "base_uri": "https://localhost:8080/"
        },
        "id": "rfZulegZdsgs",
        "outputId": "80c4f77e-04a7-45fc-96fa-a9e512162c76"
      },
      "outputs": [
        {
          "data": {
            "text/plain": [
              "GradientBoostingRegressor(learning_rate=0.3, max_depth=4, random_state=42)"
            ]
          },
          "execution_count": 49,
          "metadata": {},
          "output_type": "execute_result"
        }
      ],
      "source": [
        "model2.fit(X_train,y_train)"
      ]
    },
    {
      "cell_type": "code",
      "execution_count": 50,
      "metadata": {
        "colab": {
          "base_uri": "https://localhost:8080/"
        },
        "id": "jyDBJ4TfdzX7",
        "outputId": "e2ff8a27-0eed-4719-eadc-885ef36f2061"
      },
      "outputs": [
        {
          "data": {
            "text/plain": [
              "0.9428058293298357"
            ]
          },
          "execution_count": 50,
          "metadata": {},
          "output_type": "execute_result"
        }
      ],
      "source": [
        "y_pred_grad_test=model2.predict(X_test)\n",
        "R2_score_grad=r2_score(y_test,y_pred_grad_test)\n",
        "y_pred_grad_train=model2.predict(X_train)\n",
        "R2_score_grad_train=r2_score(y_train,y_pred_grad_train)\n",
        "R2_score_grad_train\n",
        "R2_score_grad"
      ]
    },
    {
      "cell_type": "code",
      "execution_count": 52,
      "metadata": {
        "id": "3_6ApOsDzMBh"
      },
      "outputs": [],
      "source": [
        "def rmse(predictions, targets): \n",
        "  return np.sqrt(((predictions - targets) ** 2).mean())\n",
        "\n",
        "def mae(predictions,targets):\n",
        "  return np.mean((targets-predictions)**2)"
      ]
    },
    {
      "cell_type": "code",
      "execution_count": 53,
      "metadata": {
        "id": "dVql3fSvKkFM"
      },
      "outputs": [],
      "source": [
        "# this is the rmse of Xgboot\n",
        "rmse_train=rmse(y_pred_grad_train,y_train)\n",
        "rmse_test=rmse(y_pred_grad_test,y_test)\n",
        "# rmse_test\n",
        "# rmse_train"
      ]
    },
    {
      "cell_type": "code",
      "execution_count": 54,
      "metadata": {
        "colab": {
          "base_uri": "https://localhost:8080/"
        },
        "id": "c53GOCGOqTrh",
        "outputId": "cb230bfc-39f1-488d-e9b5-737742ba1e3b"
      },
      "outputs": [
        {
          "data": {
            "text/plain": [
              "22.826832596927087"
            ]
          },
          "execution_count": 54,
          "metadata": {},
          "output_type": "execute_result"
        }
      ],
      "source": [
        "mae_train=mae(y_train_pred,y_train)\n",
        "mae_test=mae(y_pred,y_test)\n",
        "mae_test\n",
        "# mae_train"
      ]
    }
  ],
  "metadata": {
    "colab": {
      "collapsed_sections": [],
      "name": "All Models.ipynb",
      "provenance": []
    },
    "kernelspec": {
      "display_name": "Python 3",
      "name": "python3"
    },
    "language_info": {
      "codemirror_mode": {
        "name": "ipython",
        "version": 3
      },
      "file_extension": ".py",
      "mimetype": "text/x-python",
      "name": "python",
      "nbconvert_exporter": "python",
      "pygments_lexer": "ipython3",
      "version": "3.9.6"
    }
  },
  "nbformat": 4,
  "nbformat_minor": 0
}
